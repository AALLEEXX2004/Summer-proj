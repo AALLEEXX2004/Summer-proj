{
 "cells": [
  {
   "attachments": {},
   "cell_type": "markdown",
   "metadata": {
    "colab_type": "text",
    "id": "view-in-github"
   },
   "source": [
    "<a href=\"https://colab.research.google.com/github/BabaDrew/Summer-proj/blob/main/29th%20may.ipynb\" target=\"_parent\"><img src=\"https://colab.research.google.com/assets/colab-badge.svg\" alt=\"Open In Colab\"/></a>"
   ]
  },
  {
   "attachments": {},
   "cell_type": "markdown",
   "id": "cd7a85c8",
   "metadata": {
    "id": "cd7a85c8"
   },
   "source": [
    "importing an empty csv (added that to github too)"
   ]
  },
  {
   "cell_type": "code",
   "execution_count": null,
   "id": "0bb71813",
   "metadata": {
    "id": "0bb71813"
   },
   "outputs": [],
   "source": [
    "import csv\n",
    "from tabulate import tabulate\n",
    "import re # Please do 'pip install re' in your command line/terminal if you don't have this lol"
   ]
  },
  {
   "attachments": {},
   "cell_type": "markdown",
   "id": "9f2bb55e",
   "metadata": {
    "id": "9f2bb55e"
   },
   "source": [
    "1st function definition: adding a course"
   ]
  },
  {
   "cell_type": "code",
   "execution_count": 1,
   "id": "151770b7",
   "metadata": {
    "id": "151770b7"
   },
   "outputs": [],
   "source": [
    "def add_course():\n",
    "    course_letters = ['AGHE','ANAT','ANIM','ANSH','APSC','ARAB','ARTC','ARTF','ARTH','ARTL','ASCX','ASTR','BADR','BCHM','BIOL','BIOM','BLCK'\n",
    "                      'BMED','BMIF','BWRC','CANC','CBME','CHEE','CHEM','CHIN','CIL','CISC','CIVL','CLAS','CLST','CMAS','CMPE','COCA','COGS',\n",
    "                      'COMM','COMP','CRSS','CURR','CUST','CWRI','DDHT','DEVS','DRAM','ECON','EDST','EERL','ELEC','EMPR','ENCH','ENGL','ENIN',\n",
    "                      'ENPH','ENSC','EPID','FILM','FOCI','FOUN','FREN','FRST','GENG','GEOE','GEOL','GNDS','GPHY','GREK','GRMN','HEBR','HIST',\n",
    "                      'HLTH','HPE','ICL','IDIS','INDG','INTN','INTS','INUK','ITLN','JAPN','JWST','KHS','KNPE','LANG','LATN','LAW','LIBS','LING',\n",
    "                      'LISC','LLCU','LSM','MAPP','MATH','MECH','MEDS','MGMT','MICR','MINE','MIR','MNTC','MOHK','MPA','MREN','MSCI','MTHE','MUSC',\n",
    "                      'MUTH','NSCI','NURS','PACT','PATH','PHAR','PHGY','PHIL','PHMI','PHYS','POLS','PORT','PPEC','PRAC','PROF','PSYC','QGSP','RELS',\n",
    "                      'REPD','RHBS','RHL','SCCS','SOCY','SOFT','SPAN','STAM','STAT','SURP','TMED','WRIT']\n",
    "    \n",
    "    pattern = r\"([A-Za-z]{3,4})\\s?\\d{3}\" # A-Z that occurs 3 to 4 times, with an optional space, and 3 digits\n",
    "    valid_course = False\n",
    "    # Course Name Valid Check\n",
    "    while valid_course is False:\n",
    "        course_name = input(\"Enter the course name: \").upper()\n",
    "        match = re.search(pattern, course_name)\n",
    "        if match is not None:\n",
    "            if match.group(1) in course_letters:\n",
    "                valid_course = True\n",
    "            else:\n",
    "                print(\"The Course Code You Entered Does Not Exist\")\n",
    "        else:\n",
    "            print(\"Invalid Entry for Course\")\n",
    "\n",
    "    # Course Distribution\n",
    "    grade_distribution = input(\"Enter the grade distribution for the course: \")\n",
    "\n",
    "    with open('course_data.csv', 'a', newline='') as file:\n",
    "        writer = csv.writer(file)\n",
    "        writer.writerow([course_name, grade_distribution])\n",
    "    \n",
    "    print(\"Course added successfully!\")"
   ]
  },
  {
   "attachments": {},
   "cell_type": "markdown",
   "id": "5f7a6d16",
   "metadata": {
    "id": "5f7a6d16"
   },
   "source": [
    "2nd function definitition: edit grade distribution"
   ]
  },
  {
   "cell_type": "code",
   "execution_count": 2,
   "id": "b05ea1be",
   "metadata": {
    "id": "b05ea1be"
   },
   "outputs": [],
   "source": [
    "def edit_grade_distribution():\n",
    "    course_name = input(\"Enter the course name to edit its grade distribution: \")\n",
    "    new_grade_distribution = input(\"Enter the new grade distribution for the course: \")\n",
    "\n",
    "    with open('course_data.csv', 'r') as file:\n",
    "        reader = csv.reader(file)\n",
    "        courses = list(reader)\n",
    "    \n",
    "    found = False\n",
    "    for course in courses:\n",
    "        if course[0] == course_name:\n",
    "            course[1] = new_grade_distribution\n",
    "            found = True\n",
    "            break\n",
    "    \n",
    "    if found:\n",
    "        with open('course_data.csv', 'w', newline='') as file:\n",
    "            writer = csv.writer(file)\n",
    "            writer.writerows(courses)\n",
    "        \n",
    "        print(\"Grade distribution updated successfully!\")\n",
    "    else:\n",
    "        print(\"Course not found.\")"
   ]
  },
  {
   "attachments": {},
   "cell_type": "markdown",
   "id": "e4f924f9",
   "metadata": {
    "id": "e4f924f9"
   },
   "source": [
    "3rd function: view all courses and their grades "
   ]
  },
  {
   "cell_type": "code",
   "execution_count": 58,
   "id": "da1167cd",
   "metadata": {
    "id": "da1167cd"
   },
   "outputs": [],
   "source": [
    "def view_courses():\n",
    "    with open('course_data.csv', 'r') as file:\n",
    "        reader = csv.reader(file)\n",
    "        courses = list(reader)\n",
    "\n",
    "    if len(courses) > 0:\n",
    "        headers = [\"Course\", \"Grade Distribution\"]\n",
    "        print(\"\\nCourses and their grade distributions:\")\n",
    "        print(tabulate(courses, headers=headers, tablefmt=\"fancy_grid\"))\n",
    "    else:\n",
    "        print(\"No courses found.\")"
   ]
  },
  {
   "attachments": {},
   "cell_type": "markdown",
   "id": "f1fd9622",
   "metadata": {
    "id": "f1fd9622"
   },
   "source": [
    "menu print"
   ]
  },
  {
   "cell_type": "code",
   "execution_count": 59,
   "id": "513ab936",
   "metadata": {
    "colab": {
     "base_uri": "https://localhost:8080/"
    },
    "id": "513ab936",
    "outputId": "8d8a2065-b857-4bf1-f9a4-9fc22903c712"
   },
   "outputs": [
    {
     "name": "stdout",
     "output_type": "stream",
     "text": [
      "\n",
      "MENU:\n",
      "1. Add a new course\n",
      "2. Edit the grade distribution for a course\n",
      "3. View all courses and their respective grades\n",
      "4. Exit\n",
      "Enter your choice (1-4): 3\n",
      "\n",
      "Courses and their grade distributions:\n",
      "╒══════════╤══════════════════════╕\n",
      "│ Course   │   Grade Distribution │\n",
      "╞══════════╪══════════════════════╡\n",
      "│ COGS 100 │                   15 │\n",
      "├──────────┼──────────────────────┤\n",
      "│ STAT 263 │                    5 │\n",
      "├──────────┼──────────────────────┤\n",
      "│ MATH 121 │                   10 │\n",
      "╘══════════╧══════════════════════╛\n",
      "\n",
      "MENU:\n",
      "1. Add a new course\n",
      "2. Edit the grade distribution for a course\n",
      "3. View all courses and their respective grades\n",
      "4. Exit\n",
      "Enter your choice (1-4): 4\n"
     ]
    }
   ],
   "source": [
    "def main():\n",
    "    while True:\n",
    "        print(\"\\nMENU:\")\n",
    "        print(\"1. Add a new course\")\n",
    "        print(\"2. Edit the grade distribution for a course\")\n",
    "        print(\"3. View all courses and their respective grades\")\n",
    "        print(\"4. Exit\")\n",
    "        \n",
    "        choice = input(\"Enter your choice (1-4): \")\n",
    "\n",
    "        if choice == '1':\n",
    "            add_course()\n",
    "        elif choice == '2':\n",
    "            edit_grade_distribution()\n",
    "        elif choice == '3':\n",
    "            view_courses()\n",
    "        elif choice == '4':\n",
    "            break\n",
    "        else:\n",
    "            print(\"Invalid choice. Please try again.\")\n",
    "\n",
    "if __name__ == \"__main__\":\n",
    "    main()"
   ]
  },
  {
   "cell_type": "code",
   "execution_count": null,
   "id": "cb637a5b",
   "metadata": {
    "id": "cb637a5b"
   },
   "outputs": [],
   "source": []
  }
 ],
 "metadata": {
  "colab": {
   "include_colab_link": true,
   "provenance": []
  },
  "kernelspec": {
   "display_name": "Python 3 (ipykernel)",
   "language": "python",
   "name": "python3"
  },
  "language_info": {
   "codemirror_mode": {
    "name": "ipython",
    "version": 3
   },
   "file_extension": ".py",
   "mimetype": "text/x-python",
   "name": "python",
   "nbconvert_exporter": "python",
   "pygments_lexer": "ipython3",
   "version": "3.9.13"
  }
 },
 "nbformat": 4,
 "nbformat_minor": 5
}
