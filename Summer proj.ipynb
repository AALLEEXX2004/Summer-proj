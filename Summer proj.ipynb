{
 "cells": [
  {
   "cell_type": "code",
   "execution_count": 1,
   "id": "395cba12",
   "metadata": {},
   "outputs": [],
   "source": [
    "import pandas as pd\n",
    "import numpy as np"
   ]
  },
  {
   "cell_type": "markdown",
   "id": "e860eb2a",
   "metadata": {},
   "source": [
    "Taking general info"
   ]
  },
  {
   "cell_type": "code",
   "execution_count": null,
   "id": "7bd337b6",
   "metadata": {},
   "outputs": [],
   "source": [
    "termcode=input(\"What term do you want to add the course to?:\")\n",
    "coursecode=input(\"What is course code?: \")\n",
    "firstdivision=int(input(\"How many divisions does the course have?: \"))"
   ]
  },
  {
   "cell_type": "markdown",
   "id": "756c2244",
   "metadata": {},
   "source": [
    "depending upon the value of firstdivision, make the following repeat itself"
   ]
  },
  {
   "cell_type": "code",
   "execution_count": null,
   "id": "8fb078c8",
   "metadata": {},
   "outputs": [],
   "source": [
    "seconddivisionnames=input(\"what are the names of the subdivisions?:)"
   ]
  },
  {
   "cell_type": "markdown",
   "id": "f4666c75",
   "metadata": {},
   "source": [
    "make it so that they have to press enter before putting the name for the next subdivisons. take those names and make a dictionary"
   ]
  },
  {
   "cell_type": "code",
   "execution_count": null,
   "id": "121aa7d8",
   "metadata": {},
   "outputs": [],
   "source": [
    "seconddivision1=int(input(\"How many of the secdiv1 are there?\")) #so for example sub-div1 is assignments, so how many assignments are there?"
   ]
  },
  {
   "cell_type": "code",
   "execution_count": null,
   "id": "e8d74ff0",
   "metadata": {},
   "outputs": [],
   "source": [
    "secdiv1_val=float(input(\"What is the weightage of seconddivsion1?: \"))"
   ]
  }
 ],
 "metadata": {
  "kernelspec": {
   "display_name": "Python 3 (ipykernel)",
   "language": "python",
   "name": "python3"
  },
  "language_info": {
   "codemirror_mode": {
    "name": "ipython",
    "version": 3
   },
   "file_extension": ".py",
   "mimetype": "text/x-python",
   "name": "python",
   "nbconvert_exporter": "python",
   "pygments_lexer": "ipython3",
   "version": "3.9.13"
  }
 },
 "nbformat": 4,
 "nbformat_minor": 5
}
